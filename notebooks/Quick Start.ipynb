{
 "cells": [
  {
   "cell_type": "code",
   "execution_count": 1,
   "metadata": {
    "collapsed": true
   },
   "outputs": [],
   "source": [
    "import sys\n",
    "sys.path.append('..')\n",
    "\n",
    "import random"
   ]
  },
  {
   "cell_type": "markdown",
   "metadata": {},
   "source": [
    "# Pynetics QuickStart\n",
    "\n",
    "In this example we are going to build a very simple and useless algorithm to explore the possibilities of the pynetics library.\n",
    "\n",
    "Our problem will be as follows. We'll going to develop a genetic algorithm (from now on _GA_) to find what binary list of lenght $L=N$ is the one with the bigger sum. Yes, it's totally absurd, but useful to learn GAs and this library.\n",
    "\n",
    "Let's start from the begining. The individuals.\n",
    "\n",
    "## Representing individuals\n",
    "\n",
    "The individuals are the most important components in a genetic algorithm. Each individual is a possible solution, good or bad, for our problem.\n",
    "\n",
    "We want to model an individual capable of representing a possible solution to our problem. Pynetics has a perfect representation for this problem, the `BinaryIndividual`, so it's no necessary to create a custom individual. We'll cross that bridge when we get to it.\n",
    "\n",
    "The algorithm will create individuals using a `SpawningPool` implementation. We're going to use a special implementation inside the module `pynetics.ga_bin` called `BinaryIndividualSpawningPool`, that creates `BinaryIndividual` instances of the given size."
   ]
  },
  {
   "cell_type": "code",
   "execution_count": 2,
   "metadata": {
    "collapsed": false
   },
   "outputs": [],
   "source": [
    "from pynetics.ga_bin import BinaryIndividualSpawningPool\n",
    "\n",
    "# Let's define the size of our individuals (the numer of 1's and 0's)\n",
    "individual_size = 25\n",
    "binary_individual_spawning_pool = BinaryIndividualSpawningPool(size=individual_size)"
   ]
  },
  {
   "cell_type": "markdown",
   "metadata": {},
   "source": [
    "Now the spawning pool will be capable of creating individuals of the specified size. The genetic algorithm will create a population of individuals using the `spawn` method to populate it. We'll also specify a population size for the algorithm and see an example of population:"
   ]
  },
  {
   "cell_type": "code",
   "execution_count": 3,
   "metadata": {
    "collapsed": false
   },
   "outputs": [
    {
     "name": "stdout",
     "output_type": "stream",
     "text": [
      "0 -> 1000011000011001111000111\n",
      "1 -> 0110001010101000110001001\n",
      "2 -> 0100010101100110000011011\n",
      "3 -> 0110000101110111001001111\n",
      "4 -> 0100011110000001010100110\n",
      "5 -> 1001001110110101100001110\n",
      "6 -> 0011110110001011001111000\n",
      "7 -> 0110001100001101010001101\n",
      "8 -> 0001011111101111001001100\n",
      "9 -> 0111001101100010110100001\n"
     ]
    }
   ],
   "source": [
    "population_size = 10\n",
    "\n",
    "for i in range(population_size):\n",
    "    individual = binary_individual_spawning_pool.spawn()\n",
    "    print(i, '->', individual)"
   ]
  },
  {
   "cell_type": "markdown",
   "metadata": {},
   "source": [
    "## Fitness\n",
    "\n",
    "Our individuals are solutions for the problem but, ¿how can we measure how good or bad are they? That is what the `fitness` is for. It's a function that will return a float value. The bigger the value, the better the individual is.\n",
    "\n",
    "We could use a fitness function equals to the sum of all $1$'s but if we want to stop the algorithm based on the fitness, is not the same the best fitness for an individual of size 10 than an individual of size 20.\n",
    "\n",
    "So the fitness funcion we're gonna use is a function with the form $1 / (1 + \\alpha)$, being $\\alpha$ the error of our individual. The error will be computed as the number of $0$'s the individual has."
   ]
  },
  {
   "cell_type": "code",
   "execution_count": 4,
   "metadata": {
    "collapsed": true
   },
   "outputs": [],
   "source": [
    "def maximize_ones_fitness(individual):\n",
    "    error = len(individual) - sum(individual)\n",
    "    return 1 / (1 + error)"
   ]
  },
  {
   "cell_type": "markdown",
   "metadata": {},
   "source": [
    "This function guarantees that the fitness will belong to the $(0, 1]$ interval. Let's see an example of its behavior."
   ]
  },
  {
   "cell_type": "code",
   "execution_count": 5,
   "metadata": {
    "collapsed": false
   },
   "outputs": [
    {
     "name": "stdout",
     "output_type": "stream",
     "text": [
      "0 -> 1101001001111110100000001 0.07142857142857142\n",
      "1 -> 0011001111101010001110011 0.08333333333333333\n",
      "2 -> 0001011101101000100100011 0.06666666666666667\n",
      "3 -> 1110100001100101101101101 0.08333333333333333\n",
      "4 -> 1011001100110001000100111 0.07142857142857142\n",
      "5 -> 0000101000010001101010001 0.05555555555555555\n",
      "6 -> 1111111101000000010011010 0.07692307692307693\n",
      "7 -> 1101001101111001000001001 0.07142857142857142\n",
      "8 -> 0011001011001000010011001 0.0625\n",
      "9 -> 0110100110001100000110010 0.0625\n"
     ]
    }
   ],
   "source": [
    "for i in range(population_size):\n",
    "    individual = binary_individual_spawning_pool.spawn()\n",
    "    fitness = maximize_ones_fitness(individual)\n",
    "    print(i, '->', individual, fitness)"
   ]
  },
  {
   "cell_type": "markdown",
   "metadata": {},
   "source": [
    "## The stop condition\n",
    "\n",
    "Now we're gonna specify when our algorithm should stop. This is controlled by a stop condition."
   ]
  },
  {
   "cell_type": "code",
   "execution_count": 6,
   "metadata": {
    "collapsed": true
   },
   "outputs": [],
   "source": [
    "from pynetics.stop import FitnessBound\n",
    "\n",
    "fitness_stop_condition = FitnessBound(1)"
   ]
  },
  {
   "cell_type": "markdown",
   "metadata": {},
   "source": [
    "Instances of the class FitnessBound are created by specifying the fitness threshold above which we can stop our algorithm. We have specified a FitnessBound object with a threshold of $1$. That means that all the values below $1$ will not stop our algorithm whereas all the values upper or equal than $1$ will do.\n",
    "\n",
    "Because our fitness value belongs to the $(0, 1]$ interval, the algorithm will stop only when the population has an individual with a fitness of $1$ (all $1$'s).\n",
    "\n",
    "## Selecting individuals\n",
    "\n",
    "For our GA, we're going to use a tournament selection. Tournament selection works by selecting $n$ individuals randomly from the population and then returning the best of them (based on their fitnesses)."
   ]
  },
  {
   "cell_type": "code",
   "execution_count": 7,
   "metadata": {
    "collapsed": true
   },
   "outputs": [],
   "source": [
    "from pynetics.selections import Tournament\n",
    "\n",
    "tournament_selection = Tournament(2)"
   ]
  },
  {
   "cell_type": "markdown",
   "metadata": {},
   "source": [
    "## Recombining\n",
    "\n",
    "Now the recombination, i.e. the step where the individuals are selected and their genetic information is inherited by their progeny.\n",
    "\n",
    "We'll use a `OnePointRecombination`, included in the module `ga_list`. Also, for the recombination we'll specify the probability for two individuals to mate to be 1, that is, they always mate."
   ]
  },
  {
   "cell_type": "code",
   "execution_count": 8,
   "metadata": {
    "collapsed": false
   },
   "outputs": [],
   "source": [
    "from pynetics.ga_list import OnePointRecombination\n",
    "\n",
    "recombination_probability = 1\n",
    "recombination = OnePointRecombination()"
   ]
  },
  {
   "cell_type": "markdown",
   "metadata": {},
   "source": [
    "## Mutations\n",
    "\n",
    "The same with mutations. The mutation operator we're going to use is `AllGenesCanSwitch`, a mutation where for each binary gene there is a probability to be switched from $0$ to $1$ and viceversa. It belongs to the module `ga_bin`."
   ]
  },
  {
   "cell_type": "code",
   "execution_count": 9,
   "metadata": {
    "collapsed": true
   },
   "outputs": [],
   "source": [
    "from pynetics.ga_bin import AllGenesCanSwitch\n",
    "\n",
    "mutation_probability = 1 / individual_size\n",
    "mutation = AllGenesCanSwitch()"
   ]
  },
  {
   "cell_type": "markdown",
   "metadata": {},
   "source": [
    "## Replacement\n",
    "\n",
    "Once we've got the offspring, we need to replace the population with these newborns. The operator for that matter will be a `LowElitism` operator, where the worst individuals of the population are replaced by the offspring.\n",
    "\n",
    "We'll fix the replacement rate in $0.9$, i.e. a $90\\%$ of the population will be replaced for each iteration of the loop."
   ]
  },
  {
   "cell_type": "code",
   "execution_count": 10,
   "metadata": {
    "collapsed": true
   },
   "outputs": [],
   "source": [
    "from pynetics.replacements import LowElitism\n",
    "\n",
    "replacement_rate = 0.9\n",
    "replacement = LowElitism()"
   ]
  },
  {
   "cell_type": "markdown",
   "metadata": {},
   "source": [
    "## The algorithm"
   ]
  },
  {
   "cell_type": "code",
   "execution_count": 11,
   "metadata": {
    "collapsed": false
   },
   "outputs": [],
   "source": [
    "from pynetics.algorithms import SimpleGA\n",
    "\n",
    "ga = SimpleGA(\n",
    "    stop_condition=fitness_stop_condition,\n",
    "    population_size=population_size,\n",
    "    fitness=maximize_ones_fitness,\n",
    "    spawning_pool=binary_individual_spawning_pool,\n",
    "    selection=tournament_selection,\n",
    "    recombination=recombination,\n",
    "    mutation=mutation,\n",
    "    replacement=replacement,\n",
    "    p_recombination=recombination_probability,\n",
    "    p_mutation=mutation_probability,\n",
    "    replacement_rate=replacement_rate,\n",
    ")"
   ]
  },
  {
   "cell_type": "markdown",
   "metadata": {},
   "source": [
    "Now we've created our algorithm, we can run it to find the right solution. Let's see how it works"
   ]
  },
  {
   "cell_type": "code",
   "execution_count": 12,
   "metadata": {
    "collapsed": false
   },
   "outputs": [
    {
     "name": "stdout",
     "output_type": "stream",
     "text": [
      "1111111111111111111111111\n"
     ]
    }
   ],
   "source": [
    "ga.run()\n",
    "print(ga.best())"
   ]
  },
  {
   "cell_type": "markdown",
   "metadata": {},
   "source": [
    "We can specify functions to be executed while the training takes place. The next example adds some of those functions."
   ]
  },
  {
   "cell_type": "code",
   "execution_count": 13,
   "metadata": {
    "collapsed": false
   },
   "outputs": [
    {
     "name": "stdout",
     "output_type": "stream",
     "text": [
      "Starting genetic algoritm\n",
      "Step: 0 ->1011100101101111010001110 fitness: 0.09090909090909091\n",
      "Step: 1 ->1011111101101111010000110 fitness: 0.1\n",
      "Step: 2 ->1011111101101111010000110 fitness: 0.1\n",
      "Step: 3 ->1011101101101111011001110 fitness: 0.1111111111111111\n",
      "Step: 4 ->1011101101100111111101110 fitness: 0.125\n",
      "Step: 5 ->1011111101100111111101110 fitness: 0.14285714285714285\n",
      "Step: 6 ->1011111101100111111101110 fitness: 0.14285714285714285\n",
      "Step: 7 ->1011111101100111111101110 fitness: 0.14285714285714285\n",
      "Step: 8 ->1011111101101111111101110 fitness: 0.16666666666666666\n",
      "Step: 9 ->1011111101101111111101110 fitness: 0.16666666666666666\n",
      "Step: 10 ->1011111101101111111101110 fitness: 0.16666666666666666\n",
      "Step: 11 ->1111111111101101111001111 fitness: 0.2\n",
      "Step: 12 ->1111111111101101111001111 fitness: 0.2\n",
      "Step: 13 ->1111111111111101111001111 fitness: 0.25\n",
      "Step: 14 ->1111111111111101111001111 fitness: 0.25\n",
      "Step: 15 ->1111111111111111111001111 fitness: 0.3333333333333333\n",
      "Step: 16 ->1111111111111111111001111 fitness: 0.3333333333333333\n",
      "Step: 17 ->1111111111111111111001111 fitness: 0.3333333333333333\n",
      "Step: 18 ->1111111111111111111001111 fitness: 0.3333333333333333\n",
      "Step: 19 ->1111111111111111111101111 fitness: 0.5\n",
      "Step: 20 ->1111111111111111111101111 fitness: 0.5\n",
      "Step: 21 ->1111111111111111111101111 fitness: 0.5\n",
      "Step: 22 ->1111111111111111111111111 fitness: 1.0\n",
      "Genetic Algorithm ended. Best individual: 1111111111111111111111111\n"
     ]
    }
   ],
   "source": [
    "ga.on_start(\n",
    "    lambda ga: print('Starting genetic algoritm')\n",
    ").on_end(\n",
    "    lambda ga: print('Genetic Algorithm ended. Best individual:', ga.best())\n",
    ").on_step_start(\n",
    "    lambda ga: print('Step:', ga.generation, '->', end='')\n",
    ").on_step_end(\n",
    "    lambda ga: print(ga.best(), 'fitness:', ga.best().fitness())\n",
    ")\n",
    "ga.run()"
   ]
  },
  {
   "cell_type": "markdown",
   "metadata": {
    "collapsed": true
   },
   "source": [
    "And here ends the quickstart tutorial!"
   ]
  }
 ],
 "metadata": {
  "kernelspec": {
   "display_name": "Python 3",
   "language": "python",
   "name": "python3"
  },
  "language_info": {
   "codemirror_mode": {
    "name": "ipython",
    "version": 3
   },
   "file_extension": ".py",
   "mimetype": "text/x-python",
   "name": "python",
   "nbconvert_exporter": "python",
   "pygments_lexer": "ipython3",
   "version": "3.5.1+"
  }
 },
 "nbformat": 4,
 "nbformat_minor": 0
}
