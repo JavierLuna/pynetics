{
 "cells": [
  {
   "cell_type": "code",
   "execution_count": 5,
   "metadata": {
    "collapsed": false
   },
   "outputs": [],
   "source": [
    "import sys\n",
    "sys.path.append('..')\n",
    "\n",
    "import random"
   ]
  },
  {
   "cell_type": "markdown",
   "metadata": {},
   "source": [
    "# Pynetics QuickStart\n",
    "\n",
    "In this example we are going to build a very simple and useless algorithm to explore the possibilities of the pynetics library.\n",
    "\n",
    "Our problem will be as follows. We'll going to develop a genetic algorithm to find the what binary list of lenght $L=N$ is the one with the bigger sum. Yes, total absurd, but useful to learn GAs and this library.\n",
    "\n",
    "Let's start from the begining. The individuals.\n",
    "\n",
    "## Representing individuals\n",
    "\n",
    "The individuals are the most important component in a genetic algorithm. Each individual is a possible solution, good or bad, for our problem.\n",
    "\n",
    "We want to model an individual capable of represent a possible solution for our problem. Pynetics have a perfect representation for this problem, the `BinaryIndividual`, so it's no necessary to create a custom individual. We'll cross that bridge when we get to it."
   ]
  },
  {
   "cell_type": "code",
   "execution_count": 17,
   "metadata": {
    "collapsed": false
   },
   "outputs": [
    {
     "name": "stdout",
     "output_type": "stream",
     "text": [
      "1001111001001000101001110\n"
     ]
    }
   ],
   "source": [
    "from pynetics.ga_bin import BinaryIndividual\n",
    "\n",
    "# Let's define the size of our individuals (the numer of 1's and 0's)\n",
    "individual_size = 25\n",
    "\n",
    "# We create an individual with random 0's and 1's\n",
    "individual = BinaryIndividual()\n",
    "individual.extend(random.getrandbits(1) for _ in range(individual_size))\n",
    "\n",
    "print(individual)"
   ]
  },
  {
   "cell_type": "markdown",
   "metadata": {},
   "source": [
    "## Fitness\n",
    "\n",
    "Our individuals are solutions for the problem but, ¿how can we measure how good or how bad are they? That is what the `fitness` is for. It's a function that will return a float value. The bigger the value, the better the individual is.\n",
    "\n",
    "We could use a fitness function equals to the sum of al $1$'s but if we want to stop the algorithm based on the fitness, is not the same the best fitness for an individual of size 10 than an individual of size 20.\n",
    "\n",
    "So the fitness funcion we're gonna use is a function with the form $1 / (1 + \\alpha)$, being $\\alpha$ the error of our individual. The error will be computed as the number of $0$'s the individual has."
   ]
  },
  {
   "cell_type": "code",
   "execution_count": 49,
   "metadata": {
    "collapsed": true
   },
   "outputs": [],
   "source": [
    "def maximize_ones_fitness(individual):\n",
    "    error = len(individual) - sum(individual)\n",
    "    return 1 / (1 + error)"
   ]
  },
  {
   "cell_type": "markdown",
   "metadata": {},
   "source": [
    "This function guarantees that the fitness will belong to the $(0, 1]$ interval. Let's see an example of how it behaves."
   ]
  },
  {
   "cell_type": "code",
   "execution_count": 50,
   "metadata": {
    "collapsed": false
   },
   "outputs": [
    {
     "name": "stdout",
     "output_type": "stream",
     "text": [
      "1111100000011010100000100 -> 0.0625\n",
      "0000111000100011011010011 -> 0.06666666666666667\n",
      "1100100010001111101011111 -> 0.09090909090909091\n",
      "0001111011010011110011110 -> 0.09090909090909091\n",
      "0111000110000110001100101 -> 0.06666666666666667\n",
      "0100111000101010100010100 -> 0.0625\n",
      "0111110110000011111011101 -> 0.1\n",
      "1001011101101001100010100 -> 0.07142857142857142\n",
      "1111010110011001001110111 -> 0.1\n",
      "1110110000111001101101010 -> 0.08333333333333333\n"
     ]
    }
   ],
   "source": [
    "# Let's create some individuals first\n",
    "individuals = []\n",
    "for _ in range(10):\n",
    "    individual = BinaryIndividual()\n",
    "    individual.extend(random.getrandbits(1) for _ in range(individual_size))\n",
    "    individuals.append(individual)\n",
    "\n",
    "# Now check against the fitness function to see how good are the solutions\n",
    "for individual in individuals:\n",
    "    fitness = maximize_ones_fitness(individual)\n",
    "    print('{} -> {}'.format(individual, fitness))"
   ]
  },
  {
   "cell_type": "markdown",
   "metadata": {},
   "source": [
    "## Creating individuals\n",
    "\n",
    "Nice, now we have a representation (i.e. `BinaryIndividuals`) and a fitness function (i.e. `maximize_ones_fitness`). The next part will be create the `SpawningPool`, i.e., the object that will create the individuals in the algorithm.\n",
    "\n",
    "The same module that contains the `BinaryIndividual` contains the `BinaryIndividualSpawningPool` class that constructs BinaryIndividuals. It should be created pointing out the size of the individuals to be created and their fitness."
   ]
  },
  {
   "cell_type": "code",
   "execution_count": 51,
   "metadata": {
    "collapsed": false
   },
   "outputs": [],
   "source": [
    "from pynetics.ga_bin import BinaryIndividualSpawningPool, AverageHamming\n",
    "\n",
    "population_size = 10\n",
    "\n",
    "# TODO Remove from here the diversity and the fitness, and remove the fitness function from the Individual.\n",
    "binary_individual_spawning_pool=BinaryIndividualSpawningPool(\n",
    "    size=individual_size,\n",
    "    fitness=maximize_ones_fitness,\n",
    "    diversity=AverageHamming(),\n",
    ")"
   ]
  },
  {
   "cell_type": "markdown",
   "metadata": {},
   "source": [
    "Now the spawning pool will be capable of creating individuals of the specified size. Let's see an example:"
   ]
  },
  {
   "cell_type": "code",
   "execution_count": 52,
   "metadata": {
    "collapsed": false
   },
   "outputs": [
    {
     "name": "stdout",
     "output_type": "stream",
     "text": [
      "0010100010100011001100010\n",
      "0010100101011010101011110\n",
      "1010111001011001101100001\n",
      "1110111010011000001111101\n",
      "0101000111001100110110100\n",
      "1010010001000011000110010\n",
      "1001101001100101001000110\n",
      "1001110000000111101100010\n",
      "1100100110001111110101010\n",
      "1010010111110110100110100\n"
     ]
    }
   ],
   "source": [
    "for _ in range(10):\n",
    "    individual = binary_individual_spawning_pool.spawn()\n",
    "    print(individual)"
   ]
  },
  {
   "cell_type": "markdown",
   "metadata": {},
   "source": [
    "## The stop condition\n",
    "\n",
    "Now we're gonna specify when our algorithm should stop. This is controlled by a stop condition."
   ]
  },
  {
   "cell_type": "code",
   "execution_count": 53,
   "metadata": {
    "collapsed": true
   },
   "outputs": [],
   "source": [
    "from pynetics.stop import FitnessBound\n",
    "\n",
    "fitness_stop_condition = FitnessBound(1)"
   ]
  },
  {
   "cell_type": "markdown",
   "metadata": {},
   "source": [
    "Instances of the class FitnessBound are created by specifying the fitness thresshold above which we can stop our algorithm. We have specified a FitnessBound object with a thressholdd of $1$. That means that all the values below $1$ will not stop our algorithm whereas all the values upper or equal than $1$ will do.\n",
    "\n",
    "Because our fitness value belongs to the $(0, 1]$ interval, the algorithm will stop only when the population have an individual with a fitness of $1$ (all $1$'s).\n",
    "\n",
    "## Selecting individuals\n",
    "\n",
    "For our GA, we're going to use a tournament selection. Tournament selection works by selecting $n$ individuals randomly from the population and then returning the best of then  (based on their fitnesses)."
   ]
  },
  {
   "cell_type": "code",
   "execution_count": 54,
   "metadata": {
    "collapsed": true
   },
   "outputs": [],
   "source": [
    "from pynetics.selections import Tournament\n",
    "\n",
    "tournament_selection = Tournament(2)"
   ]
  },
  {
   "cell_type": "markdown",
   "metadata": {},
   "source": [
    "## Recombining\n",
    "\n",
    "Now the recombination, i.e. the step where the individuals are selected and their genetic informatio is going to be inherited by their progeny.\n",
    "\n",
    "We'll use a `OnePointRecombination`, included in the module `ga_list`. Also, for the recommender we'll going to specify the probability for two individuals to mate to be 1, that is, they always mate."
   ]
  },
  {
   "cell_type": "code",
   "execution_count": 55,
   "metadata": {
    "collapsed": false
   },
   "outputs": [],
   "source": [
    "from pynetics.ga_list import OnePointRecombination\n",
    "\n",
    "recombination_probability = 1\n",
    "recombination = OnePointRecombination()"
   ]
  },
  {
   "cell_type": "markdown",
   "metadata": {},
   "source": [
    "## Mutations\n",
    "\n",
    "The same with mutations. The mutation operator we're gona use is `AllGenesCanSwitch`, a mutation where for each binary gene there is a probability to be switched from $0$ to $1$ and viceversa. It belongs to the module `ga_bin`."
   ]
  },
  {
   "cell_type": "code",
   "execution_count": 56,
   "metadata": {
    "collapsed": true
   },
   "outputs": [],
   "source": [
    "from pynetics.ga_bin import AllGenesCanSwitch\n",
    "\n",
    "mutation_probability = 1 / individual_size\n",
    "mutation = AllGenesCanSwitch()"
   ]
  },
  {
   "cell_type": "markdown",
   "metadata": {},
   "source": [
    "## Replacement\n",
    "\n",
    "Once we've got the offspring, we need to replace the population with these new borns. The operator for that matter will be a `LowElitism` operator, where the worst individuals of the popularin are replaced by the offspring.\n",
    "\n",
    "We'll fix the replacement rate in $0.9$, i.e. a $90\\%$ of the pooulation will be replaced for each iteration of the loop."
   ]
  },
  {
   "cell_type": "code",
   "execution_count": 61,
   "metadata": {
    "collapsed": true
   },
   "outputs": [],
   "source": [
    "from pynetics.replacements import LowElitism\n",
    "\n",
    "replacement_rate = 0.9\n",
    "replacement = LowElitism()"
   ]
  },
  {
   "cell_type": "markdown",
   "metadata": {},
   "source": [
    "## The algorithm"
   ]
  },
  {
   "cell_type": "code",
   "execution_count": 62,
   "metadata": {
    "collapsed": false
   },
   "outputs": [],
   "source": [
    "from pynetics.algorithms import SimpleGA\n",
    "\n",
    "ga = SimpleGA(\n",
    "    stop_condition=fitness_stop_condition,\n",
    "    size=population_size,\n",
    "    spawning_pool=binary_individual_spawning_pool,\n",
    "    selection=tournament_selection,\n",
    "    recombination=recombination,\n",
    "    mutation=mutation,\n",
    "    replacement=replacement,\n",
    "    p_recombination=recombination_probability,\n",
    "    p_mutation=mutation_probability,\n",
    "    replacement_rate=replacement_rate,\n",
    ")"
   ]
  },
  {
   "cell_type": "code",
   "execution_count": 63,
   "metadata": {
    "collapsed": false
   },
   "outputs": [
    {
     "name": "stdout",
     "output_type": "stream",
     "text": [
      "1111111111111111111111111\n"
     ]
    }
   ],
   "source": [
    "ga.run()\n",
    "print(ga.best())"
   ]
  },
  {
   "cell_type": "code",
   "execution_count": 64,
   "metadata": {
    "collapsed": false
   },
   "outputs": [
    {
     "name": "stdout",
     "output_type": "stream",
     "text": [
      "1110000111111110111100001\n",
      "1111110100110110010101111\n",
      "0111110111111101111100001\n",
      "0111110111111111111100001\n",
      "0111110111111111111100001\n",
      "0111110111111111111100001\n",
      "0111110111111111111100001\n",
      "0111110111111111111100001\n",
      "0111110111111111111110011\n",
      "0111110111111111111110011\n",
      "0111110111111111111111011\n",
      "0111110111111111111111011\n",
      "0111110111111111111111011\n",
      "0111110111111111111111011\n",
      "0111110111111111111111011\n",
      "0111110111111111111111011\n",
      "0111110111111111111111011\n",
      "0111111111111111111111011\n",
      "0111111111111111111111011\n",
      "0111111111111111111111011\n",
      "0111111111111111111111011\n",
      "0111111111111111111111011\n",
      "1111111111111111111111011\n",
      "1111111111111111111111011\n",
      "1111111111111111111111011\n",
      "1111111111111111111111011\n",
      "1111111111111111111111011\n",
      "1111111111111111111111011\n",
      "1111111111111111111111011\n",
      "1111111111111111111111011\n",
      "1111111111111111111111011\n",
      "1111111111111111111111011\n",
      "1111111111111111111111011\n",
      "1111111111111111111111111\n"
     ]
    }
   ],
   "source": [
    "ga.on_step_end(lambda ga: print(ga.best()))\n",
    "ga.run()"
   ]
  },
  {
   "cell_type": "markdown",
   "metadata": {
    "collapsed": true
   },
   "source": [
    "And here ends the quickstart tutorial."
   ]
  }
 ],
 "metadata": {
  "kernelspec": {
   "display_name": "Python 3",
   "language": "python",
   "name": "python3"
  },
  "language_info": {
   "codemirror_mode": {
    "name": "ipython",
    "version": 3
   },
   "file_extension": ".py",
   "mimetype": "text/x-python",
   "name": "python",
   "nbconvert_exporter": "python",
   "pygments_lexer": "ipython3",
   "version": "3.5.1+"
  }
 },
 "nbformat": 4,
 "nbformat_minor": 0
}
